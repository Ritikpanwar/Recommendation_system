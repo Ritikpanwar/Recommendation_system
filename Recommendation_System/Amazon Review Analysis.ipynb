{
 "cells": [
  {
   "cell_type": "code",
   "execution_count": 3,
   "metadata": {},
   "outputs": [],
   "source": [
    "#Importing required packages\n",
    "import tensorflow as tf\n",
    "from tensorflow.keras.preprocessing.sequence import pad_sequences\n",
    "from tensorflow.keras.preprocessing.text import Tokenizer\n",
    "import numpy as np\n",
    "import pandas as pd"
   ]
  },
  {
   "cell_type": "code",
   "execution_count": 2,
   "metadata": {
    "scrolled": true
   },
   "outputs": [
    {
     "name": "stdout",
     "output_type": "stream",
     "text": [
      "b\"__label__2 Makes My Blood Run Red-White-And-Blue: I agree that every American should read this book -- and everybody else for that matter. I don't agree that it's scholarly. Rather, it's a joy to read -- easy to understand even for a person with two master's degrees! Between McElroy's chapter on How American Culture was Formed and Ken Burns' Lewis & Clark, I don't know which makes my blood run red-white-and-bluer. And as a child of the anti-establishment `60s, it's done a lot toward helping me understand why we Americans do what we do. It's the best history book I've ever read, the best history course I've ever taken or taught. I'm buying it for my home library for my grandchildren to use as a resource. We're also using it as a resource for a book on urban planning.\\n\"\n"
     ]
    }
   ],
   "source": [
    "# Extracting statements and labels from the dataset \n",
    "sentence,labels=[],[]\n",
    "x=open(\"train.ft.txt\",'rb')\n",
    "for i in x:\n",
    "    i=str(i)\n",
    "    labels.append(int(i[11]))\n",
    "    sentence.append(i[13:])\n",
    "print(i)\n",
    "x.close()"
   ]
  },
  {
   "cell_type": "code",
   "execution_count": 3,
   "metadata": {},
   "outputs": [],
   "source": [
    "# Setting up hyper-parameters for the training our model\n",
    "vocab_size=10000\n",
    "embedding_dim=16\n",
    "max_length=120\n",
    "trunc_type='post'\n",
    "oov_tok=\"<OOV>\""
   ]
  },
  {
   "cell_type": "code",
   "execution_count": null,
   "metadata": {},
   "outputs": [],
   "source": [
    "# Defining the layers for the model\n",
    "model=tf.keras.Sequential([\n",
    "    tf.keras.layers.Embedding(vocab_size,embedding_dim,input_length=max_length),\n",
    "    tf.keras.layers.Bidirectional(tf.keras.layers.LSTM(max_length)),\n",
    "    tf.keras.layers.Dense(vocab_size,activation='softmax')\n",
    "])\n",
    "model.compile(loss=\"sparse_categorical_crossentropy\",optimizer=tf.keras.optimizers.Adam(lr=0.001),metrics=['accuracy'])"
   ]
  },
  {
   "cell_type": "code",
   "execution_count": 4,
   "metadata": {},
   "outputs": [
    {
     "data": {
      "text/plain": [
       "36000"
      ]
     },
     "execution_count": 4,
     "metadata": {},
     "output_type": "execute_result"
    }
   ],
   "source": [
    "# Making a splitting parameter for our dataset\n",
    "t=int(0.01*len(sentence))\n",
    "t"
   ]
  },
  {
   "cell_type": "code",
   "execution_count": 5,
   "metadata": {},
   "outputs": [],
   "source": [
    "# Splitting data into test and train\n",
    "training_sentences,testing_sentences=sentence[:t],sentence[t:t+3600]\n",
    "training_labels,testing_labels=labels[:t],labels[t:t+3600]"
   ]
  },
  {
   "cell_type": "code",
   "execution_count": 15,
   "metadata": {},
   "outputs": [],
   "source": [
    "# Tokenizing our dataset and making a dictionary of words\n",
    "tokenizer=Tokenizer(num_words=vocab_size,oov_token=oov_tok)\n",
    "tokenizer.fit_on_texts(training_sentences[1:5])\n",
    "word_index=tokenizer.word_index\n",
    "sequences=tokenizer.texts_to_sequences(training_sentences[1:5])\n",
    "padded=pad_sequences(sequences,maxlen=max_length,truncating=trunc_type)\n",
    "testing_sequences=tokenizer.texts_to_sequences(testing_sentences[1:5])\n",
    "testing_padded=pad_sequences(testing_sequences,maxlen=max_length)"
   ]
  },
  {
   "cell_type": "code",
   "execution_count": 14,
   "metadata": {},
   "outputs": [
    {
     "data": {
      "text/plain": [
       "['The best soundtrack ever to anything.: I\\'m reading a lot of reviews saying that this is the best \\'game soundtrack\\' and I figured that I\\'d write a review to disagree a bit. This in my opinino is Yasunori Mitsuda\\'s ultimate masterpiece. The music is timeless and I\\'m been listening to it for years now and its beauty simply refuses to fade.The price tag on this is pretty staggering I must say, but if you are going to buy any cd for this much money, this is the only one that I feel would be worth every penny.\\\\n\"',\n",
       " 'Amazing!: This soundtrack is my favorite music of all time, hands down. The intense sadness of \"Prisoners of Fate\" (which means all the more if you\\\\\\'ve played the game) and the hope in \"A Distant Promise\" and \"Girl who Stole the Star\" have been an important inspiration to me personally throughout my teen years. The higher energy tracks like \"Chrono Cross ~ Time\\\\\\'s Scar~\", \"Time of the Dreamwatch\", and \"Chronomantique\" (indefinably remeniscent of Chrono Trigger) are all absolutely superb as well.This soundtrack is amazing music, probably the best of this composer\\\\\\'s work (I haven\\\\\\'t heard the Xenogears soundtrack, so I can\\\\\\'t say for sure), and even if you\\\\\\'ve never played the game, it would be worth twice the price to buy it.I wish I could give it 6 stars.\\\\n\\'',\n",
       " 'Excellent Soundtrack: I truly like this soundtrack and I enjoy video game music. I have played this game and most of the music on here I enjoy and it\\'s truly relaxing and peaceful.On disk one. my favorites are Scars Of Time, Between Life and Death, Forest Of Illusion, Fortress of Ancient Dragons, Lost Fragment, and Drowned Valley.Disk Two: The Draggons, Galdorb - Home, Chronomantique, Prisoners of Fate, Gale, and my girlfriend likes ZelbessDisk Three: The best of the three. Garden Of God, Chronopolis, Fates, Jellyfish sea, Burning Orphange, Dragon\\'s Prayer, Tower Of Stars, Dragon God, and Radical Dreamers - Unstealable Jewel.Overall, this is a excellent soundtrack and should be brought by those that like video game music.Xander Cross\\\\n\"',\n",
       " 'Remember, Pull Your Jaw Off The Floor After Hearing it: If you\\'ve played the game, you know how divine the music is! Every single song tells a story of the game, it\\'s that good! The greatest songs are without a doubt, Chrono Cross: Time\\'s Scar, Magical Dreamers: The Wind, The Stars, and the Sea and Radical Dreamers: Unstolen Jewel. (Translation varies) This music is perfect if you ask me, the best it can be. Yasunori Mitsuda just poured his heart on and wrote it down on paper.\\\\n\"']"
      ]
     },
     "execution_count": 14,
     "metadata": {},
     "output_type": "execute_result"
    }
   ],
   "source": [
    "training_sentences[1:5]"
   ]
  },
  {
   "cell_type": "code",
   "execution_count": 16,
   "metadata": {},
   "outputs": [
    {
     "data": {
      "text/plain": [
       "{'<OOV>': 1,\n",
       " 'the': 2,\n",
       " 'and': 3,\n",
       " 'of': 4,\n",
       " 'this': 5,\n",
       " 'i': 6,\n",
       " 'is': 7,\n",
       " 'music': 8,\n",
       " 'soundtrack': 9,\n",
       " 'to': 10,\n",
       " 'a': 11,\n",
       " 'it': 12,\n",
       " 'game': 13,\n",
       " 'best': 14,\n",
       " 'that': 15,\n",
       " 'my': 16,\n",
       " 'on': 17,\n",
       " 'if': 18,\n",
       " 'you': 19,\n",
       " 'are': 20,\n",
       " 'be': 21,\n",
       " 'time': 22,\n",
       " 'played': 23,\n",
       " 'for': 24,\n",
       " 'n': 25,\n",
       " 'all': 26,\n",
       " 'like': 27,\n",
       " 'chrono': 28,\n",
       " 'cross': 29,\n",
       " 'stars': 30,\n",
       " 'dreamers': 31,\n",
       " \"i'm\": 32,\n",
       " 'in': 33,\n",
       " 'yasunori': 34,\n",
       " 'been': 35,\n",
       " 'years': 36,\n",
       " 'price': 37,\n",
       " 'say': 38,\n",
       " 'buy': 39,\n",
       " 'one': 40,\n",
       " 'would': 41,\n",
       " 'worth': 42,\n",
       " 'every': 43,\n",
       " 'amazing': 44,\n",
       " 'down': 45,\n",
       " 'prisoners': 46,\n",
       " 'fate': 47,\n",
       " \"'ve\": 48,\n",
       " 'have': 49,\n",
       " 'me': 50,\n",
       " \"'s\": 51,\n",
       " 'scar': 52,\n",
       " 'chronomantique': 53,\n",
       " \"'t\": 54,\n",
       " 'can': 55,\n",
       " 'excellent': 56,\n",
       " 'truly': 57,\n",
       " 'enjoy': 58,\n",
       " 'video': 59,\n",
       " \"it's\": 60,\n",
       " 'disk': 61,\n",
       " 'three': 62,\n",
       " 'god': 63,\n",
       " 'sea': 64,\n",
       " 'radical': 65,\n",
       " 'jewel': 66,\n",
       " 'ever': 67,\n",
       " 'anything': 68,\n",
       " 'reading': 69,\n",
       " 'lot': 70,\n",
       " 'reviews': 71,\n",
       " 'saying': 72,\n",
       " \"'game\": 73,\n",
       " \"soundtrack'\": 74,\n",
       " 'figured': 75,\n",
       " \"i'd\": 76,\n",
       " 'write': 77,\n",
       " 'review': 78,\n",
       " 'disagree': 79,\n",
       " 'bit': 80,\n",
       " 'opinino': 81,\n",
       " \"mitsuda's\": 82,\n",
       " 'ultimate': 83,\n",
       " 'masterpiece': 84,\n",
       " 'timeless': 85,\n",
       " 'listening': 86,\n",
       " 'now': 87,\n",
       " 'its': 88,\n",
       " 'beauty': 89,\n",
       " 'simply': 90,\n",
       " 'refuses': 91,\n",
       " 'fade': 92,\n",
       " 'tag': 93,\n",
       " 'pretty': 94,\n",
       " 'staggering': 95,\n",
       " 'must': 96,\n",
       " 'but': 97,\n",
       " 'going': 98,\n",
       " 'any': 99,\n",
       " 'cd': 100,\n",
       " 'much': 101,\n",
       " 'money': 102,\n",
       " 'only': 103,\n",
       " 'feel': 104,\n",
       " 'penny': 105,\n",
       " 'favorite': 106,\n",
       " 'hands': 107,\n",
       " 'intense': 108,\n",
       " 'sadness': 109,\n",
       " 'which': 110,\n",
       " 'means': 111,\n",
       " 'more': 112,\n",
       " 'hope': 113,\n",
       " 'distant': 114,\n",
       " 'promise': 115,\n",
       " 'girl': 116,\n",
       " 'who': 117,\n",
       " 'stole': 118,\n",
       " 'star': 119,\n",
       " 'an': 120,\n",
       " 'important': 121,\n",
       " 'inspiration': 122,\n",
       " 'personally': 123,\n",
       " 'throughout': 124,\n",
       " 'teen': 125,\n",
       " 'higher': 126,\n",
       " 'energy': 127,\n",
       " 'tracks': 128,\n",
       " 'dreamwatch': 129,\n",
       " 'indefinably': 130,\n",
       " 'remeniscent': 131,\n",
       " 'trigger': 132,\n",
       " 'absolutely': 133,\n",
       " 'superb': 134,\n",
       " 'as': 135,\n",
       " 'well': 136,\n",
       " 'probably': 137,\n",
       " 'composer': 138,\n",
       " 'work': 139,\n",
       " 'haven': 140,\n",
       " 'heard': 141,\n",
       " 'xenogears': 142,\n",
       " 'so': 143,\n",
       " 'sure': 144,\n",
       " 'even': 145,\n",
       " 'never': 146,\n",
       " 'twice': 147,\n",
       " 'wish': 148,\n",
       " 'could': 149,\n",
       " 'give': 150,\n",
       " '6': 151,\n",
       " \"n'\": 152,\n",
       " 'most': 153,\n",
       " 'here': 154,\n",
       " 'relaxing': 155,\n",
       " 'peaceful': 156,\n",
       " 'favorites': 157,\n",
       " 'scars': 158,\n",
       " 'between': 159,\n",
       " 'life': 160,\n",
       " 'death': 161,\n",
       " 'forest': 162,\n",
       " 'illusion': 163,\n",
       " 'fortress': 164,\n",
       " 'ancient': 165,\n",
       " 'dragons': 166,\n",
       " 'lost': 167,\n",
       " 'fragment': 168,\n",
       " 'drowned': 169,\n",
       " 'valley': 170,\n",
       " 'two': 171,\n",
       " 'draggons': 172,\n",
       " 'galdorb': 173,\n",
       " 'home': 174,\n",
       " 'gale': 175,\n",
       " 'girlfriend': 176,\n",
       " 'likes': 177,\n",
       " 'zelbessdisk': 178,\n",
       " 'garden': 179,\n",
       " 'chronopolis': 180,\n",
       " 'fates': 181,\n",
       " 'jellyfish': 182,\n",
       " 'burning': 183,\n",
       " 'orphange': 184,\n",
       " \"dragon's\": 185,\n",
       " 'prayer': 186,\n",
       " 'tower': 187,\n",
       " 'dragon': 188,\n",
       " 'unstealable': 189,\n",
       " 'overall': 190,\n",
       " 'should': 191,\n",
       " 'brought': 192,\n",
       " 'by': 193,\n",
       " 'those': 194,\n",
       " 'xander': 195,\n",
       " 'remember': 196,\n",
       " 'pull': 197,\n",
       " 'your': 198,\n",
       " 'jaw': 199,\n",
       " 'off': 200,\n",
       " 'floor': 201,\n",
       " 'after': 202,\n",
       " 'hearing': 203,\n",
       " \"you've\": 204,\n",
       " 'know': 205,\n",
       " 'how': 206,\n",
       " 'divine': 207,\n",
       " 'single': 208,\n",
       " 'song': 209,\n",
       " 'tells': 210,\n",
       " 'story': 211,\n",
       " 'good': 212,\n",
       " 'greatest': 213,\n",
       " 'songs': 214,\n",
       " 'without': 215,\n",
       " 'doubt': 216,\n",
       " \"time's\": 217,\n",
       " 'magical': 218,\n",
       " 'wind': 219,\n",
       " 'unstolen': 220,\n",
       " 'translation': 221,\n",
       " 'varies': 222,\n",
       " 'perfect': 223,\n",
       " 'ask': 224,\n",
       " 'mitsuda': 225,\n",
       " 'just': 226,\n",
       " 'poured': 227,\n",
       " 'his': 228,\n",
       " 'heart': 229,\n",
       " 'wrote': 230,\n",
       " 'paper': 231}"
      ]
     },
     "execution_count": 16,
     "metadata": {},
     "output_type": "execute_result"
    }
   ],
   "source": [
    "word_index"
   ]
  },
  {
   "cell_type": "code",
   "execution_count": null,
   "metadata": {},
   "outputs": [],
   "source": [
    "# Fitting our dataset into the model\n",
    "history = model.fit(padded[:5000],np.array(training_labels[:5000]),\n",
    "          epochs=10,validation_data=(testing_padded[:560],np.array(testing_labels[:560])))"
   ]
  },
  {
   "cell_type": "code",
   "execution_count": null,
   "metadata": {},
   "outputs": [],
   "source": [
    "# Saving the model\n",
    "model.save('my_model_4.h5')"
   ]
  },
  {
   "cell_type": "code",
   "execution_count": 11,
   "metadata": {
    "scrolled": true
   },
   "outputs": [
    {
     "data": {
      "text/plain": [
       "\"Stuning even for the non-gamer: This sound track was beautiful! It paints the senery in your mind so well I would recomend it even to people who hate vid. game music! I have played the game Chrono Cross but out of all of the games I have ever played it has the best music! It backs away from crude keyboarding and takes a fresher step with grate guitars and soulful orchestras. It would impress anyone who cares to listen! ^_^\\\\n'\""
      ]
     },
     "execution_count": 11,
     "metadata": {},
     "output_type": "execute_result"
    }
   ],
   "source": [
    "sentence[0]"
   ]
  },
  {
   "cell_type": "code",
   "execution_count": 55,
   "metadata": {},
   "outputs": [],
   "source": [
    "tok=Tokenizer(num_words=1,oov_token=oov_tok)\n",
    "tok.fit_on_texts(sentence[0])\n",
    "word_ind=tok.word_index\n",
    "seq=tok.texts_to_sequences(sentence[0])\n",
    "#padded=pad_sequences(sequences,maxlen=max_length,truncating=trunc_type)\n",
    "#testing_sequences=tokenizer.texts_to_sequences(testing_sentences)\n",
    "#testing_padded=pad_sequences(testing_sequences,maxlen=max_length)"
   ]
  },
  {
   "cell_type": "code",
   "execution_count": 60,
   "metadata": {},
   "outputs": [
    {
     "data": {
      "image/png": "[encoded data removed]",
      "text/plain": [
       "<Figure size 432x288 with 1 Axes>"
      ]
     },
     "metadata": {
      "needs_background": "light"
     },
     "output_type": "display_data"
    },
    {
     "data": {
      "image/png": "[encoded data removed]",
      "text/plain": [
       "<Figure size 432x288 with 1 Axes>"
      ]
     },
     "metadata": {
      "needs_background": "light"
     },
     "output_type": "display_data"
    }
   ],
   "source": [
    "# Showing the trainig results in graphical format\n",
    "import matplotlib.pyplot as plt\n",
    "def graph_plot(history,string):\n",
    "    plt.plot(history.history[string])\n",
    "    plt.plot(history.history[\"val_\"+string])\n",
    "    plt.xlabel(\"Epochs\")\n",
    "    plt.ylabel(string)\n",
    "    plt.show()\n",
    "graph_plot(history,\"accuracy\")\n",
    "graph_plot(history,\"loss\")"
   ]
  },
  {
   "cell_type": "code",
   "execution_count": 2,
   "metadata": {},
   "outputs": [],
   "source": [
    "#Loading the live dataset \n",
    "data = pd.read_csv(\"embd.csv\")"
   ]
  },
  {
   "cell_type": "code",
   "execution_count": 2,
   "metadata": {},
   "outputs": [],
   "source": [
    "# Testing our saved model on the review dataset\n",
    "import tensorflow as tf\n",
    "from tensorflow.keras.preprocessing.sequence import pad_sequences\n",
    "from tensorflow.keras.preprocessing.text import Tokenizer\n",
    "import numpy as np\n",
    "import pandas as pd\n",
    "\n",
    "#Loading the model\n",
    "model=tf.keras.models.load_model('my_model_4.h5')\n",
    "#Tokenising the reviews on which the model is to be implemented\n",
    "tokens=pd.read_csv(\"embd.csv\")\n",
    "tokens=tokens.iloc[:10001,:]\n",
    "token={}\n",
    "for i,j in zip(tokens['keys'],tokens['values']):\n",
    "    token[i]=j\n",
    "    \n",
    "max_length=120\n",
    "trunc_type='post'\n",
    "#Predicting the class of the review \n",
    "def predict_output(X):\n",
    "    X=X.lower()\n",
    "    x_predict=[[token[i] if i in token else 1 for i in X.split()]]\n",
    "    padded=pad_sequences(x_predict,maxlen=max_length,truncating=trunc_type)\n",
    "    return \"Positive\" if model.predict_classes(padded)[0] == 1 else \"Negative\""
   ]
  },
  {
   "cell_type": "code",
   "execution_count": 22,
   "metadata": {},
   "outputs": [],
   "source": [
    "df = pd.read_csv('review-result.csv')"
   ]
  },
  {
   "cell_type": "code",
   "execution_count": 23,
   "metadata": {
    "scrolled": true
   },
   "outputs": [
    {
     "data": {
      "text/html": [
       "<div>\n",
       "<style scoped>\n",
       "    .dataframe tbody tr th:only-of-type {\n",
       "        vertical-align: middle;\n",
       "    }\n",
       "\n",
       "    .dataframe tbody tr th {\n",
       "        vertical-align: top;\n",
       "    }\n",
       "\n",
       "    .dataframe thead th {\n",
       "        text-align: right;\n",
       "    }\n",
       "</style>\n",
       "<table border=\"1\" class=\"dataframe\">\n",
       "  <thead>\n",
       "    <tr style=\"text-align: right;\">\n",
       "      <th></th>\n",
       "      <th>date</th>\n",
       "      <th>verified</th>\n",
       "      <th>review</th>\n",
       "    </tr>\n",
       "  </thead>\n",
       "  <tbody>\n",
       "    <tr>\n",
       "      <th>0</th>\n",
       "      <td>Reviewed in the United States on November 23, ...</td>\n",
       "      <td>Verified Purchase</td>\n",
       "      <td>\\n\\n  Great value. The Nokia has a great scree...</td>\n",
       "    </tr>\n",
       "    <tr>\n",
       "      <th>1</th>\n",
       "      <td>Reviewed in the United States on November 14, ...</td>\n",
       "      <td>Verified Purchase</td>\n",
       "      <td>\\n\\n  Previous phone was a Nokia 2.2.  This is...</td>\n",
       "    </tr>\n",
       "    <tr>\n",
       "      <th>2</th>\n",
       "      <td>Reviewed in the United States on October 21, 2020</td>\n",
       "      <td>Verified Purchase</td>\n",
       "      <td>\\n\\n  Latest Android sucks without back button...</td>\n",
       "    </tr>\n",
       "    <tr>\n",
       "      <th>3</th>\n",
       "      <td>Reviewed in the United States on November 17, ...</td>\n",
       "      <td>Verified Purchase</td>\n",
       "      <td>\\n\\n  The product is worth every penny.\\n\\n</td>\n",
       "    </tr>\n",
       "    <tr>\n",
       "      <th>4</th>\n",
       "      <td>Reviewed in the United States on November 13, ...</td>\n",
       "      <td>Verified Purchase</td>\n",
       "      <td>\\n\\n  It's an excellent phone with a beautiful...</td>\n",
       "    </tr>\n",
       "  </tbody>\n",
       "</table>\n",
       "</div>"
      ],
      "text/plain": [
       "                                                date           verified  \\\n",
       "0  Reviewed in the United States on November 23, ...  Verified Purchase   \n",
       "1  Reviewed in the United States on November 14, ...  Verified Purchase   \n",
       "2  Reviewed in the United States on October 21, 2020  Verified Purchase   \n",
       "3  Reviewed in the United States on November 17, ...  Verified Purchase   \n",
       "4  Reviewed in the United States on November 13, ...  Verified Purchase   \n",
       "\n",
       "                                              review  \n",
       "0  \\n\\n  Great value. The Nokia has a great scree...  \n",
       "1  \\n\\n  Previous phone was a Nokia 2.2.  This is...  \n",
       "2  \\n\\n  Latest Android sucks without back button...  \n",
       "3        \\n\\n  The product is worth every penny.\\n\\n  \n",
       "4  \\n\\n  It's an excellent phone with a beautiful...  "
      ]
     },
     "execution_count": 23,
     "metadata": {},
     "output_type": "execute_result"
    }
   ],
   "source": [
    "df.head()"
   ]
  },
  {
   "cell_type": "code",
   "execution_count": 24,
   "metadata": {},
   "outputs": [
    {
     "data": {
      "text/plain": [
       "'Positive'"
      ]
     },
     "execution_count": 24,
     "metadata": {},
     "output_type": "execute_result"
    }
   ],
   "source": [
    "predict_output(df['review'][48])"
   ]
  },
  {
   "cell_type": "code",
   "execution_count": 6,
   "metadata": {},
   "outputs": [
    {
     "data": {
      "text/plain": [
       "'Positive'"
      ]
     },
     "execution_count": 6,
     "metadata": {},
     "output_type": "execute_result"
    }
   ],
   "source": [
    "predict_output(df['review'][45])"
   ]
  },
  {
   "cell_type": "code",
   "execution_count": 4,
   "metadata": {},
   "outputs": [
    {
     "data": {
      "text/plain": [
       "'\\n\\n  please dont buy this phone. its complete crap. after 3 months. the entire phone screen is flickering continuously andunable to attend call. unable to attend password. i did factory reset and nothing works.if you want to waste your money buy it\\n\\n'"
      ]
     },
     "execution_count": 4,
     "metadata": {},
     "output_type": "execute_result"
    }
   ],
   "source": [
    "df['review'][48]"
   ]
  },
  {
   "cell_type": "code",
   "execution_count": 5,
   "metadata": {},
   "outputs": [
    {
     "data": {
      "text/plain": [
       "'\\n\\n  Nice phone\\n\\n'"
      ]
     },
     "execution_count": 5,
     "metadata": {},
     "output_type": "execute_result"
    }
   ],
   "source": [
    "df['review'][45]"
   ]
  },
  {
   "cell_type": "code",
   "execution_count": 28,
   "metadata": {},
   "outputs": [
    {
     "data": {
      "text/plain": [
       "'\\n\\n  Great value. The Nokia has a great screen, battery life, and provides 2 years of Android OS updates (from date of release). It also comes with TPU case which is great because 2.4 cases can be hard to find. Not a lot of bloat ware which is good because the phone only come with 32GB out of the box (2GB of RAM). I immediately added 64GB via a microSD card. Fingerprint reader on the back is convenient but you must place your finger carefully to avoid multiple reads. Some software like Outlook and Teams don’t load as quickly as the usual suspects do but that may be because the are running in a Work profile. I was considering a factory unlocked phone from Motorola but like the design, value, and build quality of this new phone from Nokia.\\n\\n'"
      ]
     },
     "execution_count": 28,
     "metadata": {},
     "output_type": "execute_result"
    }
   ],
   "source": [
    "dfreview.review[0]"
   ]
  },
  {
   "cell_type": "code",
   "execution_count": 4,
   "metadata": {},
   "outputs": [
    {
     "name": "stdout",
     "output_type": "stream",
     "text": [
      "335 189\n"
     ]
    }
   ],
   "source": [
    "print(countp, countn)"
   ]
  },
  {
   "cell_type": "code",
   "execution_count": 17,
   "metadata": {},
   "outputs": [],
   "source": [
    "# The combined code to get live reviews from the amazon site and reviewing the rating of the product\n",
    "\n",
    "#Importing the required packages\n",
    "from tensorflow.keras import models\n",
    "import tensorflow as tf\n",
    "from tensorflow.keras.preprocessing.sequence import pad_sequences\n",
    "from tensorflow.keras.preprocessing.text import Tokenizer\n",
    "import numpy as np\n",
    "import pandas as pd\n",
    "import requests\n",
    "from bs4 import BeautifulSoup\n",
    "from selenium import webdriver\n",
    "import csv\n",
    "\n",
    "#Loading the model\n",
    "model=models.load_model('my_model_4.h5')\n",
    "tokens=pd.read_csv(\"embd.csv\")\n",
    "tokens=tokens.iloc[:10001,:]\n",
    "max_length=120\n",
    "trunc_type='post'\n",
    "token={}\n",
    "for i,j in zip(tokens['keys'],tokens['values']):\n",
    "    token[i]=j\n",
    "with open('review-result.csv', 'w', newline = '', encoding = 'utf-8') as f:\n",
    "        writer = csv.writer(f)\n",
    "        writer.writerow(['date', 'verified', 'review'])\n",
    "df = pd.DataFrame()\n",
    "# selenium functions\n",
    "def get_url(search_term):\n",
    "    \"\"\"Genrate a url from search term\"\"\"\n",
    "    template = \"https://www.amazon.com/s?k={}\"\n",
    "    search_term = search_term.replace(\" \",\"+\")\n",
    "    \n",
    "    #add term query to url\n",
    "    url = template.format(search_term)\n",
    "    \n",
    "    #add page query placeholder\n",
    "    url += \"&page={}\"\n",
    "    \n",
    "    return url\n",
    "\n",
    "def extract_record(item):\n",
    "    \"\"\"Extract and return data from a single record\"\"\"\n",
    "    \n",
    "    try:\n",
    "        #description and url\n",
    "        atag = item.h2.a\n",
    "        desc = atag.text.strip()\n",
    "        url = 'https://www.amazon.com' + atag.get('href')\n",
    "    except AttributeError:\n",
    "        return\n",
    "    \n",
    "    try:\n",
    "        #price\n",
    "        price_parent = item.find('span','a-price')\n",
    "        price = price_parent.find('span', 'a-offscreen').text\n",
    "    except AttributeError:\n",
    "        return\n",
    "    \n",
    "    try:\n",
    "        #rank and rating\n",
    "        rating = item.i.text\n",
    "        review_count = item.find('span',{'class': 'a-size-base', 'dir': 'auto'}).text\n",
    "    except AttributeError:\n",
    "        rating = ''\n",
    "        review_count = ''\n",
    "    \n",
    "    result = (desc, price, rating, review_count, url)\n",
    "    return result\n",
    "\n",
    "def pmain(search_term):\n",
    "    \"\"\"Run main program routine\"\"\"\n",
    "    # stratup the webdriver\n",
    "    options = webdriver.ChromeOptions()\n",
    "    options.add_argument('headless')\n",
    "    options.add_argument('window-size=1200x600')\n",
    "    driver_path = 'chromedriver.exe'\n",
    "    driver = webdriver.Chrome(driver_path,options=options)\n",
    "    records = []\n",
    "    url = get_url(search_term)\n",
    "    \n",
    "    for page in range(1,2):\n",
    "        driver.get(url.format(page))\n",
    "        soup = BeautifulSoup(driver.page_source, 'html.parser')\n",
    "        results = soup.find_all('div', {'data-component-type': 's-search-result'})\n",
    "        for itm in results:\n",
    "            record = extract_record(itm)\n",
    "            if record:\n",
    "                records.append(extract_record(itm))\n",
    "    driver.close()\n",
    "    #save data to csv file\n",
    "    with open('result.csv', 'w', newline = '', encoding = 'utf-8') as f:\n",
    "        writer = csv.writer(f)\n",
    "        writer.writerow(['desc', 'price', 'rating', 'review_count', 'Url'])\n",
    "        writer.writerows(records)\n",
    "# seelenuium function end\n",
    "def r_get_url(template):\n",
    "    \"\"\"Genrate a url from search term\"\"\"\n",
    "    \n",
    "    url = template.replace(\"dp\",\"product-reviews\")+'&pageNumber={}'+'&sortBy=recent'\n",
    "    \n",
    "    return url\n",
    "\n",
    "def r_extract_record(item):\n",
    "    \"\"\"Extract and return data from a single record\"\"\"\n",
    "    stop = 1\n",
    "    try:\n",
    "        #review date\n",
    "        date = item.find('span',{'data-hook':'review-date'}).text\n",
    "        #if int(date[-4:])<2020:\n",
    "         #   stop = 0\n",
    "        \n",
    "    except AttributeError:\n",
    "        return \n",
    "    \n",
    "    try:\n",
    "        #review\n",
    "        review = item.find('span',{'data-hook':'review-body'}).text\n",
    "    except AttributeError:\n",
    "        return\n",
    "    \n",
    "    try:\n",
    "        #verify purchase\n",
    "        verified = item.find('span',{'data-hook':'avp-badge'}).text\n",
    "    except AttributeError:\n",
    "        return\n",
    "    \n",
    "    result = (date, verified, review)\n",
    "    return result, stop\n",
    "\n",
    "def r_main(template):\n",
    "    \"\"\"Run main program routine\"\"\"\n",
    "    # stratup the webdriver\n",
    "    \n",
    "    options = webdriver.ChromeOptions()\n",
    "    options.add_argument('headless')\n",
    "    options.add_argument('window-size=1200x600')\n",
    "    driver_path = 'chromedriver.exe'\n",
    "    driver = webdriver.Chrome(driver_path,options=options)\n",
    "    url = r_get_url(template)\n",
    "    records = []\n",
    "    stop = 1\n",
    "    page=0\n",
    "    for i in range(0,2):\n",
    "        page+=1\n",
    "        driver.get(url.format(page))\n",
    "        soup = BeautifulSoup(driver.page_source, 'html.parser')\n",
    "        results = soup.find_all('div', {'data-hook': 'review'})\n",
    "        for itm in results:\n",
    "            r = r_extract_record(itm)\n",
    "            \n",
    "            if r:\n",
    "                #stop = r[-1]\n",
    "                records.append(r[0])\n",
    "    driver.close()\n",
    "    \n",
    "    #save data to csv file\n",
    "    with open('review-result.csv', 'w', newline = '', encoding = 'utf-8') as f:\n",
    "        writer = csv.writer(f)\n",
    "        writer.writerow(['date', 'verified', 'review'])\n",
    "        writer.writerows(records)\n",
    "\n",
    "def predict_output(X):\n",
    "    max_length=120\n",
    "    trunc_type='post'\n",
    "    X=X.lower()\n",
    "    x_predict=[[token[i] if i in token else 1 for i in X.split()]]\n",
    "    padded=pad_sequences(x_predict,maxlen=max_length,truncating=trunc_type)\n",
    "    return \"Positive\" if model.predict_classes(padded)[0] == 1 else \"Negative\"\n",
    "\n",
    "\n",
    "\n",
    "def predict(x):\n",
    "    global df\n",
    "\n",
    "    input_features = x\n",
    "    pmain(input_features)\n",
    "    df=pd.read_csv(\"result.csv\")\n",
    "    for i in range(min(5,df.shape[0])):\n",
    "        r_main(df[\"Url\"][i])\n",
    "        \n",
    "    \n",
    "    #validate input hours\n",
    "    dfreview=pd.read_csv('review-result.csv')  \n",
    "    \n",
    "    countp=0\n",
    "    for i in range(dfreview.shape[0]):\n",
    "        output = predict_output(dfreview.review[i])\n",
    "        if(output==\"Positive\"):\n",
    "            countp=countp+1\n",
    "    countn=dfreview.shape[0]-countp\n",
    "    data = {'Task' : 'Reviews', 'Positive' : countp, 'Negative' : countn}\n",
    "    # input and predicted value store in df then save in csv file\n",
    "    print(data)\n",
    "\n",
    "    \n"
   ]
  },
  {
   "cell_type": "code",
   "execution_count": 18,
   "metadata": {},
   "outputs": [
    {
     "name": "stdout",
     "output_type": "stream",
     "text": [
      "{'Task': 'Reviews', 'Positive': 10, 'Negative': 10}\n"
     ]
    }
   ],
   "source": [
    "predict(\"Oppo Smart Phones\")"
   ]
  },
  {
   "cell_type": "code",
   "execution_count": 6,
   "metadata": {},
   "outputs": [
    {
     "data": {
      "text/plain": [
       "'https://www.amazon.com/LG-Electronics-24LJ4540-24-Inch-Model/dp/B01N2Z17MS/ref=sr_1_1?dchild=1&keywords=LG+smart+TV&qid=1613024872&sr=8-1'"
      ]
     },
     "execution_count": 6,
     "metadata": {},
     "output_type": "execute_result"
    }
   ],
   "source": [
    "df.Url[0]"
   ]
  },
  {
   "cell_type": "code",
   "execution_count": null,
   "metadata": {},
   "outputs": [],
   "source": []
  }
 ],
 "metadata": {
  "kernelspec": {
   "display_name": "Python 3",
   "language": "python",
   "name": "python3"
  },
  "language_info": {
   "codemirror_mode": {
    "name": "ipython",
    "version": 3
   },
   "file_extension": ".py",
   "mimetype": "text/x-python",
   "name": "python",
   "nbconvert_exporter": "python",
   "pygments_lexer": "ipython3",
   "version": "3.7.6"
  }
 },
 "nbformat": 4,
 "nbformat_minor": 4
}
